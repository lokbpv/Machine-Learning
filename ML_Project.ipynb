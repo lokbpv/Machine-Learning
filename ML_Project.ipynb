{
 "cells": [
  {
   "cell_type": "markdown",
   "metadata": {},
   "source": [
    "# Project: Fall Leaf Color Prediction in Algonquin Park"
   ]
  },
  {
   "cell_type": "markdown",
   "metadata": {},
   "source": [
    "Project Overview:\n",
    "My partner and I has been to Canada for a visit in late September, but we didn't enjoy the dreaming view in Algonquin Park, which is the main inspiration for us to do this project. We want to make prediction when the fall leaf colors change in Algonquin Park in Canada.\n",
    "\n",
    "This project includes four parts:\n",
    "1. Linear Regression\n",
    "2. LASSO \n",
    "3. Logistic Regression\n",
    "4. Neural Network\n",
    "5. Conclusion\n",
    "\n",
    "The reason why we use this four techniques is based on our assumption. We do not know what exactly the algrithom is, so we tried some classic ones to achieve the best prediction. \n",
    "\n",
    "Tree leaf changes color depending on climate, moisture, illumination, precipitation, etc.\n",
    "\n",
    "***\n",
    "```\n",
    "We divide \"condition\" into seven parts to indicate the fall foliage period of trees\n",
    "Condition number meaning:\n",
    "1 - no need to visit\n",
    "2 - minimal\n",
    "3 - patchy\n",
    "4 - partial peak\n",
    "5 - near peak\n",
    "6 - peak\n",
    "7 - past peak\n",
    "```\n",
    "\n",
    "***\n",
    "by Wenxuan Chen & Yuehan Cai"
   ]
  },
  {
   "cell_type": "code",
   "execution_count": 1,
   "metadata": {
    "collapsed": true
   },
   "outputs": [],
   "source": [
    "import pandas as pd\n",
    "import numpy as np\n",
    "import matplotlib\n",
    "import matplotlib.pyplot as plt\n",
    "import tensorflow as tf\n",
    "%matplotlib inline\n",
    "import time\n",
    "from datetime import datetime"
   ]
  },
  {
   "cell_type": "markdown",
   "metadata": {},
   "source": [
    "Extract data from xls file, including date, weather, uv index ..."
   ]
  },
  {
   "cell_type": "code",
   "execution_count": 2,
   "metadata": {},
   "outputs": [
    {
     "name": "stdout",
     "output_type": "stream",
     "text": [
      "          Date  MaxTemp  MinTemp  MeanTemp    MaxGust   UVIndex  Condition  \\\n",
      "0   2005-08-01     27.4     12.7      20.1  30.673816  3.980874          1   \n",
      "1   2005-08-02     32.3     10.6      21.5  30.673816  3.980874          1   \n",
      "2   2005-08-03     33.6     13.6      23.6  30.673816  3.980874          1   \n",
      "3   2005-08-04     30.7     12.9      21.8  30.673816  3.980874          1   \n",
      "4   2005-08-05     26.5      9.7      18.1  30.673816  3.980874          1   \n",
      "5   2005-08-06     27.4      6.0      16.7  30.673816  3.980874          1   \n",
      "6   2005-08-07     29.4      4.1      16.8  30.673816  3.980874          1   \n",
      "7   2005-08-08     30.6      8.1      19.4  30.673816  3.980874          1   \n",
      "8   2005-08-09     31.3     11.2      21.3  30.673816  3.980874          1   \n",
      "9   2005-08-10     24.8     16.0      20.4  30.673816  3.980874          1   \n",
      "10  2005-08-11     26.1     12.4      19.3  30.673816  3.980874          1   \n",
      "11  2005-08-12     20.9     11.3      16.1  30.673816  3.980874          1   \n",
      "12  2005-08-13     25.1     15.1      20.1  30.673816  3.980874          1   \n",
      "13  2005-08-14     26.6     10.5      18.6  30.673816  3.980874          1   \n",
      "14  2005-08-15     27.6      6.9      17.3  30.673816  3.980874          1   \n",
      "15  2005-08-16     26.1      4.5      15.3  30.673816  3.980874          1   \n",
      "16  2005-08-17     22.0      4.9      13.5  30.673816  3.980874          1   \n",
      "17  2005-08-18     21.2      4.0      12.6  30.673816  3.980874          1   \n",
      "18  2005-08-19     18.4     10.7      14.6  30.673816  3.980874          1   \n",
      "19  2005-08-20     20.3     15.9      18.1  30.673816  3.980874          1   \n",
      "20  2005-08-21     23.4     12.6      18.0  30.673816  3.980874          2   \n",
      "21  2005-08-22     18.7      7.3      13.0  30.673816  3.980874          2   \n",
      "22  2005-08-23     21.3      4.5      12.9  30.673816  3.980874          2   \n",
      "23  2005-08-24     23.9      2.0      13.0  30.673816  3.980874          2   \n",
      "24  2005-08-25     26.0      3.6      14.8  30.673816  3.980874          2   \n",
      "25  2005-08-26     27.3      7.1      17.2  30.673816  3.980874          3   \n",
      "26  2005-08-27     26.1      6.5      16.3  30.673816  3.980874          3   \n",
      "27  2005-08-28     26.9     14.8      20.9  30.673816  3.980874          3   \n",
      "28  2005-08-29     26.3     11.1      18.7  30.673816  3.980874          3   \n",
      "29  2005-08-30     26.1     14.2      20.2  30.673816  3.980874          3   \n",
      "30  2005-08-31     20.9     10.7      15.8  30.673816  3.980874          3   \n",
      "31  2005-09-01     24.5      9.5      17.0  30.673816  3.980874          3   \n",
      "32  2005-09-02     21.2      7.7      14.5  30.673816  3.980874          4   \n",
      "33  2005-09-03     22.0      5.9      14.0  30.673816  3.980874          4   \n",
      "34  2005-09-04     19.9      3.7      11.8  30.673816  3.980874          4   \n",
      "35  2005-09-05     23.8      1.1      12.5  30.673816  3.980874          4   \n",
      "36  2005-09-06     25.8      3.8      14.8  30.673816  3.980874          4   \n",
      "37  2005-09-07     26.9      7.4      17.2  30.673816  3.980874          4   \n",
      "38  2005-09-08     23.1      5.6      14.4  30.673816  3.980874          4   \n",
      "39  2005-09-09     20.4      1.9      11.2  30.673816  3.980874          4   \n",
      "\n",
      "    TotalPrecip  \n",
      "0           4.6  \n",
      "1           0.0  \n",
      "2           0.8  \n",
      "3           2.2  \n",
      "4           0.0  \n",
      "5           0.0  \n",
      "6           0.0  \n",
      "7           0.0  \n",
      "8           0.0  \n",
      "9           7.0  \n",
      "10          0.0  \n",
      "11          4.0  \n",
      "12          0.0  \n",
      "13          0.0  \n",
      "14          0.0  \n",
      "15          0.0  \n",
      "16          0.0  \n",
      "17          0.0  \n",
      "18         23.0  \n",
      "19          0.4  \n",
      "20         12.4  \n",
      "21          0.0  \n",
      "22          0.0  \n",
      "23          0.0  \n",
      "24          0.0  \n",
      "25          0.0  \n",
      "26          6.4  \n",
      "27          0.4  \n",
      "28          4.4  \n",
      "29          4.4  \n",
      "30          5.4  \n",
      "31          0.2  \n",
      "32          0.4  \n",
      "33          3.2  \n",
      "34          0.2  \n",
      "35          0.0  \n",
      "36          0.0  \n",
      "37          0.0  \n",
      "38          0.8  \n",
      "39          0.0  \n"
     ]
    }
   ],
   "source": [
    "df = pd.read_csv('database2_csv.csv', na_values = '?', index_col = None)\n",
    "\n",
    "#This data has missing values, fill with mean values from the non-missing values.\n",
    "df1 = df.fillna(df.mean())\n",
    "print(df1.head(40))"
   ]
  },
  {
   "cell_type": "code",
   "execution_count": 3,
   "metadata": {
    "collapsed": true
   },
   "outputs": [],
   "source": [
    "# get the date array: Set 2005.1.1 as the date 0, dateValue of later time is the difference date between\n",
    "# the date and the initial date \n",
    "\n",
    "epoch = datetime(2005, 1, 1)\n",
    "\n",
    "def mapdateTotime(x):\n",
    "    try:\n",
    "        dt = datetime.strptime(x, \"%Y-%m-%d\")\n",
    "    except ValueError:\n",
    "        dt = datetime.strptime(x, \"%Y-%m-%dT%H:%M:%S.%fZ\")\n",
    "    diff = dt - epoch\n",
    "    return diff.days\n",
    "\n",
    "df1.Date = df.Date.apply(mapdateTotime)"
   ]
  },
  {
   "cell_type": "markdown",
   "metadata": {},
   "source": [
    "# Part 1. Multiple Linear Regression"
   ]
  },
  {
   "cell_type": "code",
   "execution_count": 4,
   "metadata": {
    "collapsed": true,
    "scrolled": false
   },
   "outputs": [],
   "source": [
    "# get the training and testing data\n",
    "# df1 = df1.sample(frac = 1)\n",
    "X1 = df1[['Date','MaxTemp', 'MinTemp', 'MeanTemp', 'MaxGust', 'UVIndex', 'TotalPrecip']]\n",
    "y1 = df1['Condition']"
   ]
  },
  {
   "cell_type": "code",
   "execution_count": 5,
   "metadata": {
    "collapsed": true,
    "scrolled": true
   },
   "outputs": [],
   "source": [
    "# get the training and testing data\n",
    "numTest = 100\n",
    "numTrain = y1.shape[0] - numTest\n",
    "\n",
    "Xtrain1 = X1[0:numTrain]\n",
    "ytrain1 = y1[0:numTrain]\n",
    "Xtest1 = X1[numTrain:numTrain+numTest]\n",
    "ytest1 = y1[numTrain:numTrain+numTest]"
   ]
  },
  {
   "cell_type": "code",
   "execution_count": 6,
   "metadata": {},
   "outputs": [
    {
     "name": "stdout",
     "output_type": "stream",
     "text": [
      "[ -5.45822319e-06   1.11942180e-01  -1.59907172e-02  -5.58841430e-02\n",
      "  -2.11864433e-02  -1.23509008e-01   8.44725511e-03]\n",
      "Normalized RSS = 0.940085\n"
     ]
    },
    {
     "data": {
      "image/png": "[encoded data removed]",
      "text/plain": [
       "<matplotlib.figure.Figure at 0x10cd99208>"
      ]
     },
     "metadata": {},
     "output_type": "display_data"
    },
    {
     "data": {
      "image/png": "[encoded data removed]",
      "text/plain": [
       "<matplotlib.figure.Figure at 0x11dea0b00>"
      ]
     },
     "metadata": {},
     "output_type": "display_data"
    }
   ],
   "source": [
    "from sklearn import linear_model\n",
    "\n",
    "# Create linear regression object\n",
    "regr = linear_model.LinearRegression()\n",
    "\n",
    "regr.fit(Xtrain1, ytrain1)\n",
    "print(regr.coef_)\n",
    "yTrainPredic = regr.predict(Xtrain1)\n",
    "\n",
    "#plot the predict and true value\n",
    "plt.scatter(ytrain1,yTrainPredic)\n",
    "plt.plot([-1.2,1.2],[-1.2,1.2],'r')\n",
    "plt.xlabel('Actual')\n",
    "plt.ylabel('Predicted')\n",
    "plt.title('Predicted I2 over Actual I2')\n",
    "plt.grid()\n",
    "\n",
    "plt.figure()\n",
    "plt.plot(yTrainPredic,'r',label = 'Predicted')\n",
    "plt.plot(ytrain1,'b',label = 'Actual')\n",
    "plt.title('Predicted and Actual I2 over time')\n",
    "plt.legend()\n",
    "\n",
    "# calculate the RSS for the prediction \n",
    "RSS_train = np.mean((yTrainPredic - ytrain1)**2)/(np.std(ytrain1)**2) \n",
    "print(\"Normalized RSS = {0:f}\".format(RSS_train))"
   ]
  },
  {
   "cell_type": "code",
   "execution_count": 7,
   "metadata": {},
   "outputs": [
    {
     "name": "stdout",
     "output_type": "stream",
     "text": [
      "Normalized RSS = 0.920295\n"
     ]
    },
    {
     "data": {
      "image/png": "[encoded data removed]",
      "text/plain": [
       "<matplotlib.figure.Figure at 0x11e0ad240>"
      ]
     },
     "metadata": {},
     "output_type": "display_data"
    },
    {
     "data": {
      "image/png": "[encoded data removed]",
      "text/plain": [
       "<matplotlib.figure.Figure at 0x11dfa0c50>"
      ]
     },
     "metadata": {},
     "output_type": "display_data"
    }
   ],
   "source": [
    "# fit the testing data\n",
    "yTestPredict = regr.predict(Xtest1)\n",
    "N = np.arange(numTest)\n",
    "\n",
    "plt.scatter(ytest1,yTestPredict)\n",
    "plt.plot([-1.2,1.2],[-1.2,1.2],'r')\n",
    "plt.xlabel('Actual')\n",
    "plt.ylabel('Predicted')\n",
    "plt.title('Predicted I2 over Actual I2')\n",
    "plt.grid()\n",
    "\n",
    "plt.figure()\n",
    "plt.plot(yTestPredict,'r',label = 'Predicted')\n",
    "plt.plot(ytest1,'b',label = 'Actual')\n",
    "plt.title('Predicted and Actual I2 over time')\n",
    "plt.legend()\n",
    "\n",
    "RSS_test = np.mean((yTestPredict - ytest1)**2)/(np.std(ytest1)**2)\n",
    "print(\"Normalized RSS = {0:f}\".format(RSS_test))"
   ]
  },
  {
   "cell_type": "markdown",
   "metadata": {},
   "source": [
    "## Part 2. LASSO"
   ]
  },
  {
   "cell_type": "code",
   "execution_count": 8,
   "metadata": {},
   "outputs": [
    {
     "name": "stderr",
     "output_type": "stream",
     "text": [
      "/Users/irenecai/anaconda/lib/python3.6/site-packages/sklearn/utils/validation.py:429: DataConversionWarning: Data with input dtype int64 was converted to float64 by the scale function.\n",
      "  warnings.warn(msg, _DataConversionWarning)\n"
     ]
    },
    {
     "name": "stdout",
     "output_type": "stream",
     "text": [
      "[ 1.00845683  0.55415321  0.73745701  1.32189488  0.91984911  0.88999855\n",
      "  1.20070703  0.91003199  0.92293776  0.94431798]\n"
     ]
    }
   ],
   "source": [
    "import  sklearn.model_selection\n",
    "import sklearn.preprocessing\n",
    "\n",
    "df2 = pd.read_csv('database1_csv.csv', na_values = '?', index_col = None)\n",
    "#This data has missing values, fill with mean values from the non-missing values.\n",
    "df3 = df2.fillna(df.mean())\n",
    "df3.Date = df3.Date.apply(mapdateTotime)\n",
    "X0 = df3[['Date','MaxTemp', 'MinTemp', 'MeanTemp', 'MaxGust', 'UVIndex', 'TotalPrecip']]\n",
    "y0 = df3['Condition']\n",
    "X2 = sklearn.preprocessing.scale(X0)\n",
    "y2 = sklearn.preprocessing.scale(y0)\n",
    "\n",
    "nfold = 10\n",
    "kf = sklearn.model_selection.KFold(n_splits=nfold,shuffle=True)\n",
    "\n",
    "model = linear_model.Lasso(warm_start=True)\n",
    "\n",
    "nalpha = 100\n",
    "alphas = np.logspace(-2,3,nalpha)\n",
    "\n",
    "mse = np.zeros((nalpha,nfold))\n",
    "for ifold, ind in enumerate(kf.split(X2)):\n",
    "\n",
    "    Itr,Its = ind\n",
    "    Xtr = X2[Itr,:]\n",
    "    ytr = y2[Itr]\n",
    "    Xts = X2[Its,:]\n",
    "    yts = y2[Its]\n",
    "    \n",
    "    for ia, a in enumerate(alphas):\n",
    "        model.alpha = a\n",
    "        model.fit(Xtr,ytr)\n",
    "        yts_pred = model.predict(Xts)\n",
    "        mse[ia,ifold] = np.mean((yts_pred-yts)**2)\n",
    "print(mse[1,:])\n"
   ]
  },
  {
   "cell_type": "code",
   "execution_count": 9,
   "metadata": {},
   "outputs": [
    {
     "data": {
      "image/png": "[encoded data removed]",
      "text/plain": [
       "<matplotlib.figure.Figure at 0x118901908>"
      ]
     },
     "metadata": {},
     "output_type": "display_data"
    },
    {
     "name": "stdout",
     "output_type": "stream",
     "text": [
      "The selected model alpha is 0.010000\n"
     ]
    }
   ],
   "source": [
    "mse_mean_l = np.mean(mse,axis=1)\n",
    "mse_std_l = np.std(mse,axis=1) / np.sqrt(nfold-1)\n",
    "\n",
    "plt.semilogx(alphas, mse_mean_l)\n",
    "plt.semilogx(alphas, mse_mean_l+mse_std_l)\n",
    "plt.legend(['Mean MSE', 'Mean MSE+1 SE'],loc='upper left')\n",
    "plt.errorbar(alphas, mse_mean_l, yerr=mse_std_l, fmt='o-')\n",
    "\n",
    "#plt.ylim(0.95,1.05)\n",
    "plt.xlabel('alpha level')\n",
    "plt.ylabel('Test RSS')\n",
    "plt.grid()\n",
    "plt.show()\n",
    "\n",
    "imin = np.argmin(mse_mean_l)\n",
    "print(\"The selected model alpha is {0:f}\".format(alphas[imin]))"
   ]
  },
  {
   "cell_type": "code",
   "execution_count": 10,
   "metadata": {},
   "outputs": [
    {
     "name": "stdout",
     "output_type": "stream",
     "text": [
      "The optimal model alpha is  1000.0\n",
      "Mean test RSS per sample is  1.00144322751\n"
     ]
    },
    {
     "data": {
      "image/png": "[encoded data removed]",
      "text/plain": [
       "<matplotlib.figure.Figure at 0x11f1d3940>"
      ]
     },
     "metadata": {},
     "output_type": "display_data"
    }
   ],
   "source": [
    "# Find the minimum RSS target\n",
    "imin = np.argmin(mse_mean_l)\n",
    "alpha_min = alphas[imin]\n",
    "mse_tgt_l = mse_mean_l[imin] + mse_std_l[imin]\n",
    "\n",
    "# Find the lowest model order below the target\n",
    "I = np.where(mse_mean_l <= mse_tgt_l)[0]\n",
    "iopt = I[-1]\n",
    "dopt = alphas[iopt]\n",
    "plt.semilogx(alphas, mse_mean_l)\n",
    "plt.semilogx(alphas, mse_mean_l+mse_std_l)\n",
    "plt.semilogx([alpha_min,alpha_min], [mse_tgt_l,mse_tgt_l], 'rs--')\n",
    "plt.semilogx([dopt,dopt], [0.001,mse_mean_l[iopt]], 'ro--')\n",
    "plt.legend(['Mean MSE', 'Mean MSE+1 SE', 'MSE target','alpha opt'],loc='upper left')\n",
    "\n",
    "plt.xlabel('alpha level')\n",
    "plt.ylabel('Test RSS')\n",
    "plt.grid()\n",
    "\n",
    "# Print results\n",
    "print(\"The optimal model alpha is \", dopt)\n",
    "print(\"Mean test RSS per sample is \", mse_mean_l[iopt])"
   ]
  },
  {
   "cell_type": "code",
   "execution_count": 11,
   "metadata": {},
   "outputs": [
    {
     "data": {
      "text/plain": [
       "<matplotlib.text.Text at 0x11df56278>"
      ]
     },
     "execution_count": 11,
     "metadata": {},
     "output_type": "execute_result"
    },
    {
     "data": {
      "image/png": "[encoded data removed]",
      "text/plain": [
       "<matplotlib.figure.Figure at 0x11f2d2f98>"
      ]
     },
     "metadata": {},
     "output_type": "display_data"
    }
   ],
   "source": [
    "model.alpha = dopt\n",
    "model.fit(X2,y2)\n",
    "y_pred = model.predict(X2)\n",
    "plt.scatter(y2,y_pred)\n",
    "plt.plot([-0.3,0.35],[-0.3,0.35],'r')\n",
    "plt.xlabel('actual')\n",
    "plt.ylabel('predicted')"
   ]
  },
  {
   "cell_type": "markdown",
   "metadata": {},
   "source": [
    "## Part 3. Logistic Regression"
   ]
  },
  {
   "cell_type": "code",
   "execution_count": 12,
   "metadata": {},
   "outputs": [
    {
     "data": {
      "text/plain": [
       "LogisticRegression(C=1.0, class_weight=None, dual=False, fit_intercept=True,\n",
       "          intercept_scaling=1, max_iter=100, multi_class='ovr', n_jobs=1,\n",
       "          penalty='l2', random_state=None, solver='liblinear', tol=0.0001,\n",
       "          verbose=0, warm_start=False)"
      ]
     },
     "execution_count": 12,
     "metadata": {},
     "output_type": "execute_result"
    }
   ],
   "source": [
    "import sklearn.model_selection\n",
    "import sklearn.preprocessing\n",
    "\n",
    "X3 = sklearn.preprocessing.scale(X0)\n",
    "y3 = y0\n",
    "logreg = linear_model.LogisticRegression()\n",
    "logreg.fit(X3, y3)"
   ]
  },
  {
   "cell_type": "code",
   "execution_count": 13,
   "metadata": {},
   "outputs": [
    {
     "name": "stdout",
     "output_type": "stream",
     "text": [
      "Accuracy on training data = 0.857632\n"
     ]
    }
   ],
   "source": [
    "yhat1 = logreg.predict(X3)\n",
    "acc1 = np.mean(yhat1 == y3)\n",
    "print(\"Accuracy on training data = %f\" % acc1)"
   ]
  },
  {
   "cell_type": "code",
   "execution_count": 14,
   "metadata": {},
   "outputs": [
    {
     "name": "stdout",
     "output_type": "stream",
     "text": [
      "The optimal model C is  0.1\n",
      "Accuracy  0.857636700263\n"
     ]
    },
    {
     "data": {
      "image/png": "[encoded data removed]",
      "text/plain": [
       "<matplotlib.figure.Figure at 0x11e290d68>"
      ]
     },
     "metadata": {},
     "output_type": "display_data"
    }
   ],
   "source": [
    "# try to optimize parameters of Logistic Regression\n",
    "nfold = 10\n",
    "kf = sklearn.model_selection.KFold(n_splits=nfold, shuffle = True)\n",
    "\n",
    "model = linear_model.LogisticRegression(penalty = 'l1')\n",
    "\n",
    "nC = 20\n",
    "Cs = np.logspace(-1,1,nC)\n",
    "\n",
    "mse = np.zeros((nC,nfold))\n",
    "error = np.zeros((nC,nfold))\n",
    "\n",
    "for ifold, ind in enumerate(kf.split(X3)):\n",
    "\n",
    "    Itr,Its = ind\n",
    "    Xtr2 = X3[Itr,:]\n",
    "    ytr2 = y3[Itr]\n",
    "    Xts2 = X3[Its,:]\n",
    "    yts2 = y3[Its]\n",
    "    \n",
    "    for ia, a in enumerate(Cs):\n",
    "        model.C = a\n",
    "        model.fit(Xtr2,ytr2)\n",
    "        yhat2 = model.predict(Xts2)\n",
    "        mse[ia,ifold] = np.mean((yhat2-yts2)**2)\n",
    "        error[ia,ifold] = np.mean(yhat2 != yts2)\n",
    "\n",
    "\n",
    "error_mean = np.mean(error,axis = 1)\n",
    "error_std = np.std(error,axis = 1)/np.sqrt(nfold-1)\n",
    "\n",
    "imin = np.argmin(error_mean)\n",
    "\n",
    "C_min = Cs[imin]\n",
    "error_tgt = error_mean[imin] + error_std[imin]\n",
    "\n",
    "I = np.where(error_mean <= error_tgt)[0]\n",
    "\n",
    "Maxacc = 1-imin\n",
    "iopt = I[0]\n",
    "dopt = Cs[iopt]\n",
    "plt.semilogx(Cs, error_mean)\n",
    "plt.semilogx(Cs, error_mean+error_std)\n",
    "plt.semilogx([C_min,dopt], [error_tgt,error_tgt], 'rs--')\n",
    "plt.semilogx([dopt,dopt], [-0.1,error_mean[iopt]], 'ro--')\n",
    "plt.legend(['Mean Error', 'Mean Error+1 SE', 'Mean Error target','C opt'],loc='upper right')\n",
    "\n",
    "print(\"The optimal model C is \", dopt)\n",
    "print(\"Accuracy \", 1 - error_mean[iopt])"
   ]
  },
  {
   "cell_type": "markdown",
   "metadata": {},
   "source": [
    "## Part 4: Neural Network\n",
    "\n",
    "Use Tensorflow for creating neural network and training it on database1. It takes the date, MaxTemp, MinTemp, MeanTemp, MaxGust, UVIndex and TotalPrecip as input to compute a prediction for the leaf color condition index."
   ]
  },
  {
   "cell_type": "code",
   "execution_count": 15,
   "metadata": {
    "collapsed": true
   },
   "outputs": [],
   "source": [
    "col1 = df3[['Date','MaxTemp','MinTemp','MeanTemp', 'MaxGust', 'UVIndex','TotalPrecip']]\n",
    "col2 = df3['Condition']\n",
    "\n",
    "#Convert to Numpy array\n",
    "X1 = col1.as_matrix()\n",
    "Y1 = col2.as_matrix()\n",
    "\n",
    "#Min-max Normalization \n",
    "X1_norm = (X1-np.amin(X1,0))/(np.amax(X1,0)-np.amin(X1,0))\n",
    "Y1_norm = Y1  #No normalization in output\n",
    "\n",
    "#Reshape\n",
    "Xfeatures = 6 #Number of input features  \n",
    "Yfeatures = 1 #Number of input features \n",
    "samples = Y1.shape[0] # Number of samples   \n",
    "\n",
    "X1_reshape = np.resize(X1_norm,(samples,Xfeatures))\n",
    "Y1_reshape = np.resize(Y1_norm,(samples,Yfeatures))"
   ]
  },
  {
   "cell_type": "code",
   "execution_count": 16,
   "metadata": {
    "collapsed": true
   },
   "outputs": [],
   "source": [
    "#Training data\n",
    "vsize = 1000\n",
    "tsize = samples - vsize\n",
    "\n",
    "X1train = X1_reshape[0:tsize,:]\n",
    "Y1train = Y1_reshape[0:tsize,:]\n",
    "\n",
    "#Validation data\n",
    "X1v = X1_reshape[tsize:tsize+vsize,:]\n",
    "Y1v = Y1_reshape[tsize:tsize+vsize,:]"
   ]
  },
  {
   "cell_type": "code",
   "execution_count": 17,
   "metadata": {
    "collapsed": true
   },
   "outputs": [],
   "source": [
    "#Input\n",
    "X = tf.placeholder(tf.float32,shape=(None,Xfeatures))\n",
    "\n",
    "#Output\n",
    "Y = tf.placeholder(tf.float32)"
   ]
  },
  {
   "cell_type": "code",
   "execution_count": 18,
   "metadata": {
    "collapsed": true
   },
   "outputs": [],
   "source": [
    "#Neurons\n",
    "L1 = 5\n",
    "L2 = 5\n",
    "L3 = 5\n",
    "L4 = 5\n",
    "L5 = 5\n",
    "\n",
    "#Layer1 weights\n",
    "W1 = tf.Variable(tf.random_uniform([Xfeatures,L1]))\n",
    "b1 = tf.Variable(tf.constant(0.1,shape=[L1]))\n",
    "\n",
    "#Layer2 weights\n",
    "W2 = tf.Variable(tf.random_uniform([L1,L2]))\n",
    "b2 = tf.Variable(tf.constant(0.1,shape=[L2]))\n",
    "\n",
    "#Layer3 weights\n",
    "W3 = tf.Variable(tf.random_uniform([L2,L3]))\n",
    "b3 = tf.Variable(tf.constant(0.1,shape=[L3]))\n",
    "\n",
    "#Layer4 weights\n",
    "W4 = tf.Variable(tf.random_uniform([L3,L4]))\n",
    "b4 = tf.Variable(tf.constant(0.1,shape=[L4]))\n",
    "\n",
    "#Layer5 weights\n",
    "W5 = tf.Variable(tf.random_uniform([L4,L5]))\n",
    "b5 = tf.Variable(tf.constant(0.1,shape=[L5]))\n",
    "\n",
    "#Output layer weights\n",
    "W_O = tf.Variable(tf.random_uniform([L5,Yfeatures]))\n",
    "b_O = tf.Variable(tf.constant(0.1,shape=[Yfeatures]))"
   ]
  },
  {
   "cell_type": "code",
   "execution_count": 19,
   "metadata": {
    "collapsed": true
   },
   "outputs": [],
   "source": [
    "#Layer 1\n",
    "matmul_1=tf.matmul(X, W1) + b1\n",
    "h1 = tf.nn.relu(matmul_1)   #ReLU activation\n",
    "\n",
    "#Layer 2\n",
    "matmul_2=tf.matmul(h1, W2) + b2\n",
    "h2 = tf.nn.relu(matmul_2)   #ReLU activation\n",
    "\n",
    "#Layer 3\n",
    "matmul_3=tf.matmul(h2, W3) + b3\n",
    "h3 = tf.nn.relu(matmul_3)   #ReLU activation\n",
    "\n",
    "#Layer 4\n",
    "matmul_4=tf.matmul(h3, W4) + b4\n",
    "h4 = tf.nn.relu(matmul_4)   #ReLU activation\n",
    "\n",
    "#Layer 5\n",
    "matmul_5=tf.matmul(h4, W5) + b5\n",
    "h5 = tf.nn.relu(matmul_5)   #ReLU activation\n",
    "\n",
    "#Output layer\n",
    "matmul_6=tf.matmul(h5, W_O) + b_O\n",
    "#output_layer = matmul_6  #linear activation\n",
    "output_layer = tf.transpose(tf.matmul(h5, W_O) + b_O)"
   ]
  },
  {
   "cell_type": "code",
   "execution_count": 20,
   "metadata": {
    "collapsed": true
   },
   "outputs": [],
   "source": [
    "lr = 0.001  # learning rate\n",
    "epoch = 1000\n",
    "batch_size = 100\n",
    "\n",
    "#Loss function\n",
    "mean_square =  tf.reduce_mean(tf.square(Y-output_layer))\n",
    "opt = tf.train.AdamOptimizer(lr).minimize(mean_square)\n",
    "\n",
    "#Operation to save variables\n",
    "saver = tf.train.Saver()"
   ]
  },
  {
   "cell_type": "code",
   "execution_count": 21,
   "metadata": {},
   "outputs": [
    {
     "name": "stdout",
     "output_type": "stream",
     "text": [
      "Final training loss: [1.0021241]\n",
      "Final validation loss: [2.3275969]\n"
     ]
    }
   ],
   "source": [
    "#Initialization and session\n",
    "init = tf.global_variables_initializer()\n",
    "with tf.Session() as sess:\n",
    "    sess.run(init)\n",
    "    for i in range(epoch):\n",
    "        # Shuffle training data\n",
    "        shuffle_indices = np.random.permutation(np.arange(len(Y1train)))\n",
    "        X_train = X1train[shuffle_indices]\n",
    "        y_train = Y1train[shuffle_indices]\n",
    "        # Minibatch training\n",
    "        for i in range(0, len(y_train) // batch_size):\n",
    "            start = i * batch_size\n",
    "            batch_x = X_train[start:start + batch_size]\n",
    "            batch_y = y_train[start:start + batch_size]\n",
    "            \n",
    "            # Run optimizer with batch\n",
    "            sess.run([opt],feed_dict={X:batch_x,Y:batch_y})\n",
    "            \n",
    "    print(\"Final training loss:\",sess.run([mean_square],feed_dict={X:batch_x,Y:batch_y}))\n",
    "    print(\"Final validation loss:\",sess.run([mean_square],feed_dict={X:X1v,Y:Y1v}))\n"
   ]
  },
  {
   "cell_type": "markdown",
   "metadata": {},
   "source": [
    "## Part 5: Conclusion\n",
    "\n",
    "1.Since we are lacking of the data (we only have 4382 samples in total, from 2005 to 2016), result is not the optimal prediction. \n",
    "\n",
    "2.In this prediction, Linear regression and LASSO have bad performance since they are linear. We tried the Logistic Regression and Neural Network, which predict well. And since the Linear model is influenced greatly by the data, the large amount of same data will do bad to the prediction. And the leaf condition from December to July of next year are all 1(which means no need to visit), we remove them from the original database1_csv.csv file and make a new database for linear prediction in database2_csv.csv. By using this data, the result is much better, but still not strong for prediction result.\n",
    "\n",
    "3.Logistic Regression performance better than linear methods, the accurancy is around 0.86, this may due to the small amount of data. But this still needs to be validated.\n",
    "\n",
    "4.Since we need huge data to train the best model in Neural network, the prediection in part 4 is not perfect. The training and testing loss is around 2, which can be decreased greatly if we use 20000 samples or more or even more and more."
   ]
  }
 ],
 "metadata": {
  "anaconda-cloud": {},
  "kernelspec": {
   "display_name": "Python 3",
   "language": "python",
   "name": "python3"
  },
  "language_info": {
   "codemirror_mode": {
    "name": "ipython",
    "version": 3
   },
   "file_extension": ".py",
   "mimetype": "text/x-python",
   "name": "python",
   "nbconvert_exporter": "python",
   "pygments_lexer": "ipython3",
   "version": "3.6.1"
  }
 },
 "nbformat": 4,
 "nbformat_minor": 1
}
